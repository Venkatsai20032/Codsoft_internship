{
  "nbformat": 4,
  "nbformat_minor": 0,
  "metadata": {
    "colab": {
      "provenance": []
    },
    "kernelspec": {
      "name": "python3",
      "display_name": "Python 3"
    },
    "language_info": {
      "name": "python"
    }
  },
  "cells": [
    {
      "cell_type": "markdown",
      "source": [
        "# Build a simple chatbot that responds to user inputs based onpredefined rules. Use if-else statements or pattern matchingtechniques to identify user queries and provide appropriateresponses."
      ],
      "metadata": {
        "id": "xGVNjCtoHnCF"
      }
    },
    {
      "cell_type": "code",
      "source": [
        "def chatbot():\n",
        "    print(\"Hello! I am a simple chatbot. How can I help you today?\")\n",
        "    print(\"Type 'exit' to end the conversation.\")\n",
        "\n",
        "    while True:\n",
        "\n",
        "        user_input = input(\"You: \").lower()\n",
        "        if user_input == \"exit\":\n",
        "            print(\"Chatbot: Goodbye! Have a great day!\")\n",
        "            break\n",
        "        elif \"hello\" in user_input or \"hi\" in user_input:\n",
        "            print(\"Chatbot: Hello! How can I assist you today?\")\n",
        "        elif \"weather\" in user_input:\n",
        "            print(\"Chatbot: I'm just a simple chatbot, but I recommend checking a weather website for the latest updates.\")\n",
        "        elif \"your name\" in user_input or \"who are you\" in user_input:\n",
        "            print(\"Chatbot: I am a simple chatbot created to assist you with basic queries.\")\n",
        "        elif \"time\" in user_input:\n",
        "            from datetime import datetime\n",
        "            current_time = datetime.now().strftime(\"%H:%M:%S\")\n",
        "            print(f\"Chatbot: The current time is {current_time}.\")\n",
        "        elif \"help\" in user_input:\n",
        "            print(\"Chatbot: I'm here to answer simple questions about the weather, current time, and general information.\")\n",
        "        else:\n",
        "            print(\"Chatbot: I'm sorry, I don't understand. Can you rephrase your question or ask something else?\")\n",
        "chatbot()\n"
      ],
      "metadata": {
        "colab": {
          "base_uri": "https://localhost:8080/"
        },
        "id": "EosnNV2nICRq",
        "outputId": "bb55e010-fd51-465a-9326-faee2fa6394d"
      },
      "execution_count": null,
      "outputs": [
        {
          "output_type": "stream",
          "name": "stdout",
          "text": [
            "Hello! I am a simple chatbot. How can I help you today?\n",
            "Type 'exit' to end the conversation.\n",
            "You: hi\n",
            "Chatbot: Hello! How can I assist you today?\n",
            "You: weather\n",
            "Chatbot: I'm just a simple chatbot, but I recommend checking a weather website for the latest updates.\n",
            "You: current time\n",
            "Chatbot: The current time is 12:13:50.\n",
            "You: can know your name\n",
            "Chatbot: I am a simple chatbot created to assist you with basic queries.\n",
            "You: ok\n",
            "Chatbot: I'm sorry, I don't understand. Can you rephrase your question or ask something else?\n",
            "You: help\n",
            "Chatbot: I'm here to answer simple questions about the weather, current time, and general information.\n",
            "You: thank you\n",
            "Chatbot: I'm sorry, I don't understand. Can you rephrase your question or ask something else?\n"
          ]
        }
      ]
    }
  ]
}