{
  "nbformat": 4,
  "nbformat_minor": 0,
  "metadata": {
    "colab": {
      "provenance": []
    },
    "kernelspec": {
      "name": "python3",
      "display_name": "Python 3"
    },
    "language_info": {
      "name": "python"
    }
  },
  "cells": [
    {
      "cell_type": "markdown",
      "source": [
        "# Create a simple recommendation system that suggests items tousers based on their preferences. You can use techniques likecollaborative filtering or content-based filtering to recommendmovies, books, or products to users."
      ],
      "metadata": {
        "id": "xGVNjCtoHnCF"
      }
    },
    {
      "cell_type": "markdown",
      "source": [
        "# 1.Import Libraries"
      ],
      "metadata": {
        "id": "7PNbOwRygjNf"
      }
    },
    {
      "cell_type": "code",
      "source": [
        "import pandas as pd\n",
        "import numpy as np\n",
        "from sklearn.metrics.pairwise import cosine_similarity\n",
        "from sklearn.model_selection import train_test_split\n",
        "from sklearn.metrics import mean_squared_error"
      ],
      "metadata": {
        "id": "nuNjsb_-gnKQ"
      },
      "execution_count": 3,
      "outputs": []
    },
    {
      "cell_type": "markdown",
      "source": [
        "## 2. Load Data"
      ],
      "metadata": {
        "id": "w0AiemOcgpwW"
      }
    },
    {
      "cell_type": "code",
      "source": [
        "data = {\n",
        "    'user_id': [1, 1, 1, 2, 2, 3, 3, 3, 3, 4, 4, 5, 5],\n",
        "    'movie_id': [1, 2, 3, 1, 4, 2, 3, 4, 5, 2, 3, 4, 5],\n",
        "    'rating': [4, 5, 3, 5, 2, 4, 3, 4, 2, 4, 5, 3, 4]\n",
        "}\n",
        "\n",
        "ratings_df = pd.DataFrame(data)"
      ],
      "metadata": {
        "id": "SBJWS33Og1wm"
      },
      "execution_count": 4,
      "outputs": []
    },
    {
      "cell_type": "markdown",
      "source": [
        "## 3. Create a User-Item Matrix"
      ],
      "metadata": {
        "id": "eITK6KH7hCBr"
      }
    },
    {
      "cell_type": "code",
      "source": [
        "user_item_matrix = ratings_df.pivot_table(index='user_id', columns='movie_id', values='rating').fillna(0)"
      ],
      "metadata": {
        "id": "MaoosnqdhG2G"
      },
      "execution_count": 5,
      "outputs": []
    },
    {
      "cell_type": "markdown",
      "source": [
        "## 4. Compute Similarity Matrix"
      ],
      "metadata": {
        "id": "y-NFOLvshJt8"
      }
    },
    {
      "cell_type": "code",
      "source": [
        "user_similarity = cosine_similarity(user_item_matrix)\n",
        "np.fill_diagonal(user_similarity, 0)\n",
        "user_similarity_df = pd.DataFrame(user_similarity, index=user_item_matrix.index, columns=user_item_matrix.index)"
      ],
      "metadata": {
        "id": "TNkndaKphS1e"
      },
      "execution_count": 6,
      "outputs": []
    },
    {
      "cell_type": "markdown",
      "source": [
        "## 5. Predict Ratings"
      ],
      "metadata": {
        "id": "xz-Xj3pzhYP1"
      }
    },
    {
      "cell_type": "code",
      "source": [
        "def predict_ratings(user_item_matrix, user_similarity_df):\n",
        "    mean_user_rating = user_item_matrix.mean(axis=1)\n",
        "    ratings_diff = (user_item_matrix - mean_user_rating[:, np.newaxis])\n",
        "    pred = mean_user_rating[:, np.newaxis] + user_similarity_df.dot(ratings_diff) / np.array([np.abs(user_similarity_df).sum(axis=1)]).T\n",
        "    return pred\n",
        "\n",
        "predicted_ratings = predict_ratings(user_item_matrix.values, user_similarity)\n",
        "predicted_ratings_df = pd.DataFrame(predicted_ratings, index=user_item_matrix.index, columns=user_item_matrix.columns)"
      ],
      "metadata": {
        "id": "jnVbMc3PhiUV"
      },
      "execution_count": 7,
      "outputs": []
    },
    {
      "cell_type": "markdown",
      "source": [
        "## 6. Make Recommendations\n"
      ],
      "metadata": {
        "id": "9WD8dHAshmOl"
      }
    },
    {
      "cell_type": "code",
      "source": [
        "def recommend_movies(user_id, num_recommendations):\n",
        "    sorted_user_predictions = predicted_ratings_df.loc[user_id].sort_values(ascending=False)\n",
        "    user_rated_movies = user_item_matrix.loc[user_id][user_item_matrix.loc[user_id] > 0].index.tolist()\n",
        "    recommended_movies = sorted_user_predictions.index[~sorted_user_predictions.index.isin(user_rated_movies)]\n",
        "    return recommended_movies[:num_recommendations]\n",
        "\n",
        "user_id = 1\n",
        "num_recommendations = 3\n",
        "recommendations = recommend_movies(user_id, num_recommendations)\n",
        "print(f\"Recommended movies for user {user_id}: {recommendations.tolist()}\")"
      ],
      "metadata": {
        "colab": {
          "base_uri": "https://localhost:8080/"
        },
        "id": "jpNavVVth08j",
        "outputId": "e679349b-bdd5-432e-92dd-9b91525894d0"
      },
      "execution_count": 8,
      "outputs": [
        {
          "output_type": "stream",
          "name": "stdout",
          "text": [
            "Recommended movies for user 1: [4, 5]\n"
          ]
        }
      ]
    },
    {
      "cell_type": "markdown",
      "source": [
        "### Content-Based Filtering"
      ],
      "metadata": {
        "id": "7vxMvuwDh49W"
      }
    },
    {
      "cell_type": "markdown",
      "source": [
        "## 1. Sample Data"
      ],
      "metadata": {
        "id": "HJbCxmXjiAfF"
      }
    },
    {
      "cell_type": "code",
      "source": [
        "books_data = {\n",
        "    'book_id': [1, 2, 3, 4, 5],\n",
        "    'title': ['Book A', 'Book B', 'Book C', 'Book D', 'Book E'],\n",
        "    'genre': ['Fantasy', 'Sci-Fi', 'Mystery', 'Fantasy', 'Sci-Fi'],\n",
        "    'author': ['Author 1', 'Author 2', 'Author 3', 'Author 1', 'Author 2']\n",
        "}\n",
        "\n",
        "books_df = pd.DataFrame(books_data)"
      ],
      "metadata": {
        "id": "ZTcyqoztiE2J"
      },
      "execution_count": 9,
      "outputs": []
    },
    {
      "cell_type": "markdown",
      "source": [
        "## 2. Feature Engineering"
      ],
      "metadata": {
        "id": "vhGsdY7wiIRk"
      }
    },
    {
      "cell_type": "code",
      "source": [
        "from sklearn.feature_extraction.text import CountVectorizer\n",
        "books_df['features'] = books_df['genre'] + ' ' + books_df['author']\n",
        "count_vectorizer = CountVectorizer()\n",
        "features_matrix = count_vectorizer.fit_transform(books_df['features'])"
      ],
      "metadata": {
        "id": "_-gSbNHLiQSD"
      },
      "execution_count": 10,
      "outputs": []
    },
    {
      "cell_type": "markdown",
      "source": [
        "## 3. Compute Similarity Matrix"
      ],
      "metadata": {
        "id": "yWoBjxqSicI9"
      }
    },
    {
      "cell_type": "code",
      "source": [
        "book_similarity = cosine_similarity(features_matrix)\n",
        "book_similarity_df = pd.DataFrame(book_similarity, index=books_df['title'], columns=books_df['title'])"
      ],
      "metadata": {
        "id": "F7fq5iNiigIZ"
      },
      "execution_count": 11,
      "outputs": []
    },
    {
      "cell_type": "markdown",
      "source": [
        "## 4. Recommend Books"
      ],
      "metadata": {
        "id": "JWUFbvYRikYh"
      }
    },
    {
      "cell_type": "code",
      "source": [
        "def recommend_books(book_title, num_recommendations):\n",
        "    similar_books = book_similarity_df[book_title].sort_values(ascending=False)\n",
        "    similar_books = similar_books.drop(book_title)\n",
        "    return similar_books.index[:num_recommendations]\n",
        "\n",
        "book_title = 'Book A'\n",
        "num_recommendations = 2\n",
        "recommended_books = recommend_books(book_title, num_recommendations)\n",
        "print(f\"Books similar to '{book_title}': {recommended_books.tolist()}\")"
      ],
      "metadata": {
        "colab": {
          "base_uri": "https://localhost:8080/"
        },
        "id": "aS6uBI0nitUF",
        "outputId": "f61e1a95-e71a-4182-9303-082d0bc4a096"
      },
      "execution_count": 12,
      "outputs": [
        {
          "output_type": "stream",
          "name": "stdout",
          "text": [
            "Books similar to 'Book A': ['Book D', 'Book C']\n"
          ]
        }
      ]
    }
  ]
}